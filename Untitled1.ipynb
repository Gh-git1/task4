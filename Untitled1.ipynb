{
 "cells": [
  {
   "cell_type": "code",
   "execution_count": 6,
   "id": "center-terminal",
   "metadata": {
    "scrolled": true
   },
   "outputs": [
    {
     "name": "stdout",
     "output_type": "stream",
     "text": [
      "Requirement already satisfied: ibm_watson in /srv/conda/envs/notebook/lib/python3.6/site-packages (5.2.2)\n",
      "Requirement already satisfied: websocket-client==1.1.0 in /srv/conda/envs/notebook/lib/python3.6/site-packages (from ibm_watson) (1.1.0)\n",
      "Requirement already satisfied: python-dateutil>=2.5.3 in /srv/conda/envs/notebook/lib/python3.6/site-packages (from ibm_watson) (2.8.1)\n",
      "Requirement already satisfied: requests<3.0,>=2.0 in /srv/conda/envs/notebook/lib/python3.6/site-packages (from ibm_watson) (2.25.1)\n",
      "Requirement already satisfied: ibm-cloud-sdk-core==3.*,>=3.3.6 in /srv/conda/envs/notebook/lib/python3.6/site-packages (from ibm_watson) (3.10.1)\n",
      "Requirement already satisfied: PyJWT<3.0.0,>=2.0.1 in /srv/conda/envs/notebook/lib/python3.6/site-packages (from ibm-cloud-sdk-core==3.*,>=3.3.6->ibm_watson) (2.0.1)\n",
      "Requirement already satisfied: six>=1.5 in /srv/conda/envs/notebook/lib/python3.6/site-packages (from python-dateutil>=2.5.3->ibm_watson) (1.15.0)\n",
      "Requirement already satisfied: chardet<5,>=3.0.2 in /srv/conda/envs/notebook/lib/python3.6/site-packages (from requests<3.0,>=2.0->ibm_watson) (4.0.0)\n",
      "Requirement already satisfied: urllib3<1.27,>=1.21.1 in /srv/conda/envs/notebook/lib/python3.6/site-packages (from requests<3.0,>=2.0->ibm_watson) (1.26.3)\n",
      "Requirement already satisfied: certifi>=2017.4.17 in /srv/conda/envs/notebook/lib/python3.6/site-packages (from requests<3.0,>=2.0->ibm_watson) (2020.12.5)\n",
      "Requirement already satisfied: idna<3,>=2.5 in /srv/conda/envs/notebook/lib/python3.6/site-packages (from requests<3.0,>=2.0->ibm_watson) (2.10)\n"
     ]
    }
   ],
   "source": [
    "!pip install ibm_watson"
   ]
  },
  {
   "cell_type": "code",
   "execution_count": 7,
   "id": "objective-telling",
   "metadata": {},
   "outputs": [],
   "source": [
    "apikey = 'pUEfzxctHyooWVHC8aTB_05sv1J6NpufCwzrLr_dxtLJ'\n",
    "url = 'https://api.eu-gb.text-to-speech.watson.cloud.ibm.com/instances/bbecb1b1-7661-4455-8c53-47be6fac3580'"
   ]
  },
  {
   "cell_type": "code",
   "execution_count": 8,
   "id": "conceptual-permission",
   "metadata": {},
   "outputs": [],
   "source": [
    "from ibm_watson import TextToSpeechV1\n",
    "from ibm_cloud_sdk_core.authenticators import IAMAuthenticator"
   ]
  },
  {
   "cell_type": "code",
   "execution_count": 13,
   "id": "norwegian-memphis",
   "metadata": {},
   "outputs": [],
   "source": [
    "# Set Service\n",
    "authenticator = IAMAuthenticator(apikey)\n",
    "# New TTS Service\n",
    "tts = TextToSpeechV1(authenticator=authenticator)\n",
    "# Set Service URL\n",
    "tts.set_service_url(url)"
   ]
  },
  {
   "cell_type": "code",
   "execution_count": 25,
   "id": "cooked-columbus",
   "metadata": {},
   "outputs": [],
   "source": [
    "with open('./speech.mp3', 'wb') as audio_file:\n",
    "  res = tts.synthesize(' Hello World!,Iam very Happy', accept='audio/mp3', voice='en-US_AllisonV3Voice').get_result()\n",
    "  audio_file.write(res.content)"
   ]
  }
 ],
 "metadata": {
  "kernelspec": {
   "display_name": "Python 3",
   "language": "python",
   "name": "python3"
  },
  "language_info": {
   "codemirror_mode": {
    "name": "ipython",
    "version": 3
   },
   "file_extension": ".py",
   "mimetype": "text/x-python",
   "name": "python",
   "nbconvert_exporter": "python",
   "pygments_lexer": "ipython3",
   "version": "3.6.13"
  }
 },
 "nbformat": 4,
 "nbformat_minor": 5
}
